{
 "cells": [
  {
   "cell_type": "code",
   "execution_count": 1,
   "id": "0287024e",
   "metadata": {},
   "outputs": [],
   "source": [
    "import numpy as np\n",
    "import cv2"
   ]
  },
  {
   "cell_type": "code",
   "execution_count": 2,
   "id": "dfce885d",
   "metadata": {},
   "outputs": [],
   "source": [
    "def tsallis_entropy(image, q):\n",
    "    probabilities = (np.bincount(image.ravel()) / len(image.ravel())) ** q\n",
    "    return np.sum(probabilities) / (1 - q)"
   ]
  },
  {
   "cell_type": "code",
   "execution_count": 3,
   "id": "35035137",
   "metadata": {},
   "outputs": [],
   "source": [
    "def segment_image(image, threshold):\n",
    "    _, binary = cv2.threshold(image, threshold, 255, cv2.THRESH_BINARY)\n",
    "    return binary"
   ]
  },
  {
   "cell_type": "code",
   "execution_count": 17,
   "id": "d124b27a",
   "metadata": {},
   "outputs": [],
   "source": [
    "# Resmi yükle\n",
    "image_path = 'peppers_color.tif'\n",
    "image = cv2.imread(image_path, cv2.IMREAD_GRAYSCALE)"
   ]
  },
  {
   "cell_type": "code",
   "execution_count": 18,
   "id": "1304fed8",
   "metadata": {},
   "outputs": [],
   "source": [
    "# Farklı threshold ve q değerleri için segmentasyon performansını değerlendir\n",
    "threshold_values = [100, 150, 200]\n",
    "q_values = [0.7, 0.8, 0.9, 1.000001, 1.5, 2, 2.5, 3]"
   ]
  },
  {
   "cell_type": "code",
   "execution_count": 19,
   "id": "069415f9",
   "metadata": {},
   "outputs": [
    {
     "name": "stdout",
     "output_type": "stream",
     "text": [
      "Tsallis Entropy (Threshold=100, q=0.7): 4.095950387851604\n",
      "Tsallis Entropy (Threshold=100, q=0.8): 5.735110340215307\n",
      "Tsallis Entropy (Threshold=100, q=0.9): 10.708941378439004\n",
      "Tsallis Entropy (Threshold=100, q=1.000001): -999999.3160470088\n",
      "Tsallis Entropy (Threshold=100, q=1.5): -1.4238595682564918\n",
      "Tsallis Entropy (Threshold=100, q=2): -0.5090839716431219\n",
      "Tsallis Entropy (Threshold=100, q=2.5): -0.2437283868622898\n",
      "Tsallis Entropy (Threshold=100, q=3): -0.13181297873234143\n",
      "Tsallis Entropy (Threshold=150, q=0.7): 4.051505475654669\n",
      "Tsallis Entropy (Threshold=150, q=0.8): 5.687914754007978\n",
      "Tsallis Entropy (Threshold=150, q=0.9): 10.659595920795642\n",
      "Tsallis Entropy (Threshold=150, q=1.000001): -999999.3670157341\n",
      "Tsallis Entropy (Threshold=150, q=1.5): -1.4771277269905039\n",
      "Tsallis Entropy (Threshold=150, q=2): -0.5588671733858064\n",
      "Tsallis Entropy (Threshold=150, q=2.5): -0.28760441542429277\n",
      "Tsallis Entropy (Threshold=150, q=3): -0.1691503800393548\n",
      "Tsallis Entropy (Threshold=200, q=0.7): 3.5602288622167397\n",
      "Tsallis Entropy (Threshold=200, q=0.8): 5.19229082531654\n",
      "Tsallis Entropy (Threshold=200, q=0.9): 10.165080161945179\n",
      "Tsallis Entropy (Threshold=200, q=1.000001): -999999.8565305163\n",
      "Tsallis Entropy (Threshold=200, q=1.5): -1.9148553637980676\n",
      "Tsallis Entropy (Threshold=200, q=2): -0.9369889567897189\n",
      "Tsallis Entropy (Threshold=200, q=2.5): -0.6138359352322803\n",
      "Tsallis Entropy (Threshold=200, q=3): -0.4527417175922892\n"
     ]
    }
   ],
   "source": [
    "for threshold in threshold_values:\n",
    "    for q in q_values:\n",
    "        # Resmi segmente et\n",
    "        segmented_image = segment_image(image, threshold)\n",
    "        \n",
    "        # Segmentasyon sonuçlarını göster\n",
    "        cv2.imshow(f'Segmented Image (Threshold={threshold}, q={q})', segmented_image)\n",
    "        cv2.waitKey(0)\n",
    "        cv2.destroyAllWindows()\n",
    "        \n",
    "        # Tsallis entropisini hesapla\n",
    "        entropy = tsallis_entropy(segmented_image, q)\n",
    "        print(f'Tsallis Entropy (Threshold={threshold}, q={q}): {entropy}')"
   ]
  },
  {
   "cell_type": "code",
   "execution_count": null,
   "id": "4b6cfe70",
   "metadata": {},
   "outputs": [],
   "source": []
  }
 ],
 "metadata": {
  "kernelspec": {
   "display_name": "Python 3 (ipykernel)",
   "language": "python",
   "name": "python3"
  },
  "language_info": {
   "codemirror_mode": {
    "name": "ipython",
    "version": 3
   },
   "file_extension": ".py",
   "mimetype": "text/x-python",
   "name": "python",
   "nbconvert_exporter": "python",
   "pygments_lexer": "ipython3",
   "version": "3.9.18"
  }
 },
 "nbformat": 4,
 "nbformat_minor": 5
}
